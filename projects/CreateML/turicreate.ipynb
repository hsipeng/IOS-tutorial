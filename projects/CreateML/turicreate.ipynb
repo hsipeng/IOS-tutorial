{
 "metadata": {
  "language_info": {
   "codemirror_mode": {
    "name": "ipython",
    "version": 3
   },
   "file_extension": ".py",
   "mimetype": "text/x-python",
   "name": "python",
   "nbconvert_exporter": "python",
   "pygments_lexer": "ipython3",
   "version": 3
  },
  "orig_nbformat": 2
 },
 "nbformat": 4,
 "nbformat_minor": 2,
 "cells": [
  {
   "cell_type": "code",
   "execution_count": null,
   "metadata": {},
   "outputs": [],
   "source": [
    "import turicreate as tc\n",
    "#代码 https://apple.github.io/turicreate/docs/userguide/image_classifier/\n",
    "# 数据 https://www.microsoft.com/en-us/download/details.aspx?id=54765\n",
    "\n",
    "# 1. Load images (Note: you can ignore 'Not a JPEG file' errors)\n",
    "data = tc.image_analysis.load_images('PetImages', with_path=True)\n",
    "\n",
    "# 2. From the path-name, create a label column\n",
    "data['label'] = data['path'].apply(lambda path: 'dog' if '/Dog' in path else 'cat')\n",
    "\n",
    "# Note: If you have more than two classes, extract the folder names like this:\n",
    "# train_data[\"label\"] = train_data[\"path\"].apply(lambda path: os.path.basename(os.path.split(path)[0]))\n",
    "\n",
    "# 3. Make a train-test split\n",
    "train_data, test_data = data.random_split(0.8)\n",
    "\n",
    "# 4. Create the model\n",
    "model = tc.image_classifier.create(train_data, target='label')\n",
    "\n",
    "# 5. Save predictions to an SArray\n",
    "predictions = model.predict(test_data)\n",
    "\n",
    "# 6. Evaluate the model and save the results into a dictionary\n",
    "metrics = model.evaluate(test_data)\n",
    "print(metrics['accuracy'])\n",
    "\n",
    "# 7. Save the model for later use in Turi Create\n",
    "model.save('mymodel.model')\n",
    "\n",
    "# 8. Export for use in Core ML\n",
    "model.export_coreml('MyCustomImageClassifier.mlmodel')\n",
    "\n"
   ]
  }
 ]
}