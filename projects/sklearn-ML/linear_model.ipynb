{
 "metadata": {
  "language_info": {
   "codemirror_mode": {
    "name": "ipython",
    "version": 3
   },
   "file_extension": ".py",
   "mimetype": "text/x-python",
   "name": "python",
   "nbconvert_exporter": "python",
   "pygments_lexer": "ipython3",
   "version": 3
  },
  "orig_nbformat": 2
 },
 "nbformat": 4,
 "nbformat_minor": 2,
 "cells": [
  {
   "cell_type": "code",
   "execution_count": null,
   "metadata": {},
   "outputs": [],
   "source": [
    "import numpy as np\n",
    "from sklearn.linear_model import LinearRegression  \n",
    "from coremltools.converters import sklearn\n",
    "# 创建模型\n",
    "x_values = np.linspace(-2.25,2.25,300)  \n",
    "y_values = np.array([np.sin(x) + np.random.randn()*.25 for x in x_values])\n",
    "lm = LinearRegression().fit(x_values.reshape(-1,1), y_values)\n",
    "\n",
    "# 转换模型\n",
    "coreml_model = sklearn.convert(lm)\n",
    "coreml_model.author = \"lirawx\"  \n",
    "print(coreml_model.author)\n",
    "coreml_model.short_description = \"I approximate a sine curve with a linear model!\"  \n",
    "coreml_model.input_description[\"input\"] = \"a real number\"  \n",
    "coreml_model.output_description[\"prediction\"] = \"a real number\"\n",
    "print(coreml_model.short_description)\n",
    "coreml_model.save('linear_model.mlmodel')  "
   ]
  }
 ]
}